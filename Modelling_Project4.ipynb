{
 "cells": [
  {
   "cell_type": "markdown",
   "metadata": {},
   "source": [
    "## Retriving clean data "
   ]
  },
  {
   "cell_type": "code",
   "execution_count": 4,
   "metadata": {},
   "outputs": [
    {
     "data": {
      "text/html": [
       "<div>\n",
       "<style scoped>\n",
       "    .dataframe tbody tr th:only-of-type {\n",
       "        vertical-align: middle;\n",
       "    }\n",
       "\n",
       "    .dataframe tbody tr th {\n",
       "        vertical-align: top;\n",
       "    }\n",
       "\n",
       "    .dataframe thead th {\n",
       "        text-align: right;\n",
       "    }\n",
       "</style>\n",
       "<table border=\"1\" class=\"dataframe\">\n",
       "  <thead>\n",
       "    <tr style=\"text-align: right;\">\n",
       "      <th></th>\n",
       "      <th>ID</th>\n",
       "      <th>year_Birth</th>\n",
       "      <th>Income</th>\n",
       "      <th>child_at_Home</th>\n",
       "      <th>teen_at_Home</th>\n",
       "      <th>Recency</th>\n",
       "      <th>amt_Wines</th>\n",
       "      <th>amt_Fruits</th>\n",
       "      <th>amt_MeatProducts</th>\n",
       "      <th>amt_FishProducts</th>\n",
       "      <th>...</th>\n",
       "      <th>acceptedCmp5</th>\n",
       "      <th>acceptedCmp1</th>\n",
       "      <th>acceptedCmp2</th>\n",
       "      <th>Complain</th>\n",
       "      <th>Response</th>\n",
       "      <th>EducationCodes</th>\n",
       "      <th>marital_StatusCodes</th>\n",
       "      <th>Education</th>\n",
       "      <th>marital_Status</th>\n",
       "      <th>dt_Customer</th>\n",
       "    </tr>\n",
       "  </thead>\n",
       "  <tbody>\n",
       "    <tr>\n",
       "      <th>0</th>\n",
       "      <td>5524.0</td>\n",
       "      <td>1957.0</td>\n",
       "      <td>58138</td>\n",
       "      <td>0.0</td>\n",
       "      <td>0.0</td>\n",
       "      <td>58.0</td>\n",
       "      <td>635.0</td>\n",
       "      <td>88.0</td>\n",
       "      <td>546.0</td>\n",
       "      <td>172.0</td>\n",
       "      <td>...</td>\n",
       "      <td>0</td>\n",
       "      <td>0.0</td>\n",
       "      <td>0.0</td>\n",
       "      <td>0</td>\n",
       "      <td>1.0</td>\n",
       "      <td>2</td>\n",
       "      <td>4</td>\n",
       "      <td>Graduation</td>\n",
       "      <td>Single</td>\n",
       "      <td>2012-04-09</td>\n",
       "    </tr>\n",
       "    <tr>\n",
       "      <th>1</th>\n",
       "      <td>2174.0</td>\n",
       "      <td>1954.0</td>\n",
       "      <td>46344</td>\n",
       "      <td>1.0</td>\n",
       "      <td>1.0</td>\n",
       "      <td>38.0</td>\n",
       "      <td>11.0</td>\n",
       "      <td>1.0</td>\n",
       "      <td>6.0</td>\n",
       "      <td>2.0</td>\n",
       "      <td>...</td>\n",
       "      <td>0</td>\n",
       "      <td>0.0</td>\n",
       "      <td>0.0</td>\n",
       "      <td>0</td>\n",
       "      <td>0.0</td>\n",
       "      <td>2</td>\n",
       "      <td>4</td>\n",
       "      <td>Graduation</td>\n",
       "      <td>Single</td>\n",
       "      <td>2014-08-03</td>\n",
       "    </tr>\n",
       "    <tr>\n",
       "      <th>2</th>\n",
       "      <td>4141.0</td>\n",
       "      <td>1965.0</td>\n",
       "      <td>71613</td>\n",
       "      <td>0.0</td>\n",
       "      <td>0.0</td>\n",
       "      <td>26.0</td>\n",
       "      <td>426.0</td>\n",
       "      <td>49.0</td>\n",
       "      <td>127.0</td>\n",
       "      <td>111.0</td>\n",
       "      <td>...</td>\n",
       "      <td>0</td>\n",
       "      <td>0.0</td>\n",
       "      <td>0.0</td>\n",
       "      <td>0</td>\n",
       "      <td>0.0</td>\n",
       "      <td>2</td>\n",
       "      <td>5</td>\n",
       "      <td>Graduation</td>\n",
       "      <td>Together</td>\n",
       "      <td>2013-08-21</td>\n",
       "    </tr>\n",
       "    <tr>\n",
       "      <th>3</th>\n",
       "      <td>6182.0</td>\n",
       "      <td>1984.0</td>\n",
       "      <td>26646</td>\n",
       "      <td>1.0</td>\n",
       "      <td>0.0</td>\n",
       "      <td>26.0</td>\n",
       "      <td>11.0</td>\n",
       "      <td>4.0</td>\n",
       "      <td>20.0</td>\n",
       "      <td>10.0</td>\n",
       "      <td>...</td>\n",
       "      <td>0</td>\n",
       "      <td>0.0</td>\n",
       "      <td>0.0</td>\n",
       "      <td>0</td>\n",
       "      <td>0.0</td>\n",
       "      <td>2</td>\n",
       "      <td>5</td>\n",
       "      <td>Graduation</td>\n",
       "      <td>Together</td>\n",
       "      <td>2014-10-02</td>\n",
       "    </tr>\n",
       "    <tr>\n",
       "      <th>4</th>\n",
       "      <td>5324.0</td>\n",
       "      <td>1981.0</td>\n",
       "      <td>58293</td>\n",
       "      <td>1.0</td>\n",
       "      <td>0.0</td>\n",
       "      <td>94.0</td>\n",
       "      <td>173.0</td>\n",
       "      <td>43.0</td>\n",
       "      <td>118.0</td>\n",
       "      <td>46.0</td>\n",
       "      <td>...</td>\n",
       "      <td>0</td>\n",
       "      <td>0.0</td>\n",
       "      <td>0.0</td>\n",
       "      <td>0</td>\n",
       "      <td>0.0</td>\n",
       "      <td>4</td>\n",
       "      <td>3</td>\n",
       "      <td>PhD</td>\n",
       "      <td>Married</td>\n",
       "      <td>2014-01-19</td>\n",
       "    </tr>\n",
       "    <tr>\n",
       "      <th>...</th>\n",
       "      <td>...</td>\n",
       "      <td>...</td>\n",
       "      <td>...</td>\n",
       "      <td>...</td>\n",
       "      <td>...</td>\n",
       "      <td>...</td>\n",
       "      <td>...</td>\n",
       "      <td>...</td>\n",
       "      <td>...</td>\n",
       "      <td>...</td>\n",
       "      <td>...</td>\n",
       "      <td>...</td>\n",
       "      <td>...</td>\n",
       "      <td>...</td>\n",
       "      <td>...</td>\n",
       "      <td>...</td>\n",
       "      <td>...</td>\n",
       "      <td>...</td>\n",
       "      <td>...</td>\n",
       "      <td>...</td>\n",
       "      <td>...</td>\n",
       "    </tr>\n",
       "    <tr>\n",
       "      <th>2227</th>\n",
       "      <td>10870.0</td>\n",
       "      <td>1967.0</td>\n",
       "      <td>61223</td>\n",
       "      <td>0.0</td>\n",
       "      <td>1.0</td>\n",
       "      <td>46.0</td>\n",
       "      <td>709.0</td>\n",
       "      <td>43.0</td>\n",
       "      <td>182.0</td>\n",
       "      <td>42.0</td>\n",
       "      <td>...</td>\n",
       "      <td>0</td>\n",
       "      <td>0.0</td>\n",
       "      <td>0.0</td>\n",
       "      <td>0</td>\n",
       "      <td>0.0</td>\n",
       "      <td>2</td>\n",
       "      <td>3</td>\n",
       "      <td>Graduation</td>\n",
       "      <td>Married</td>\n",
       "      <td>2013-03-03</td>\n",
       "    </tr>\n",
       "    <tr>\n",
       "      <th>2228</th>\n",
       "      <td>4001.0</td>\n",
       "      <td>1946.0</td>\n",
       "      <td>64014</td>\n",
       "      <td>2.0</td>\n",
       "      <td>1.0</td>\n",
       "      <td>56.0</td>\n",
       "      <td>406.0</td>\n",
       "      <td>0.0</td>\n",
       "      <td>30.0</td>\n",
       "      <td>0.0</td>\n",
       "      <td>...</td>\n",
       "      <td>0</td>\n",
       "      <td>1.0</td>\n",
       "      <td>0.0</td>\n",
       "      <td>0</td>\n",
       "      <td>0.0</td>\n",
       "      <td>4</td>\n",
       "      <td>5</td>\n",
       "      <td>PhD</td>\n",
       "      <td>Together</td>\n",
       "      <td>2012-12-08</td>\n",
       "    </tr>\n",
       "    <tr>\n",
       "      <th>2229</th>\n",
       "      <td>7270.0</td>\n",
       "      <td>1981.0</td>\n",
       "      <td>56981</td>\n",
       "      <td>0.0</td>\n",
       "      <td>0.0</td>\n",
       "      <td>91.0</td>\n",
       "      <td>908.0</td>\n",
       "      <td>48.0</td>\n",
       "      <td>217.0</td>\n",
       "      <td>32.0</td>\n",
       "      <td>...</td>\n",
       "      <td>0</td>\n",
       "      <td>0.0</td>\n",
       "      <td>0.0</td>\n",
       "      <td>0</td>\n",
       "      <td>0.0</td>\n",
       "      <td>2</td>\n",
       "      <td>2</td>\n",
       "      <td>Graduation</td>\n",
       "      <td>Divorced</td>\n",
       "      <td>2014-05-18</td>\n",
       "    </tr>\n",
       "    <tr>\n",
       "      <th>2230</th>\n",
       "      <td>8235.0</td>\n",
       "      <td>1956.0</td>\n",
       "      <td>69245</td>\n",
       "      <td>0.0</td>\n",
       "      <td>1.0</td>\n",
       "      <td>8.0</td>\n",
       "      <td>428.0</td>\n",
       "      <td>30.0</td>\n",
       "      <td>214.0</td>\n",
       "      <td>80.0</td>\n",
       "      <td>...</td>\n",
       "      <td>0</td>\n",
       "      <td>0.0</td>\n",
       "      <td>0.0</td>\n",
       "      <td>0</td>\n",
       "      <td>0.0</td>\n",
       "      <td>3</td>\n",
       "      <td>5</td>\n",
       "      <td>Master</td>\n",
       "      <td>Together</td>\n",
       "      <td>2013-03-16</td>\n",
       "    </tr>\n",
       "    <tr>\n",
       "      <th>2231</th>\n",
       "      <td>9405.0</td>\n",
       "      <td>1954.0</td>\n",
       "      <td>52869</td>\n",
       "      <td>1.0</td>\n",
       "      <td>1.0</td>\n",
       "      <td>40.0</td>\n",
       "      <td>84.0</td>\n",
       "      <td>3.0</td>\n",
       "      <td>61.0</td>\n",
       "      <td>2.0</td>\n",
       "      <td>...</td>\n",
       "      <td>0</td>\n",
       "      <td>0.0</td>\n",
       "      <td>0.0</td>\n",
       "      <td>0</td>\n",
       "      <td>1.0</td>\n",
       "      <td>4</td>\n",
       "      <td>3</td>\n",
       "      <td>PhD</td>\n",
       "      <td>Married</td>\n",
       "      <td>2012-08-21</td>\n",
       "    </tr>\n",
       "  </tbody>\n",
       "</table>\n",
       "<p>2232 rows × 29 columns</p>\n",
       "</div>"
      ],
      "text/plain": [
       "           ID  year_Birth  Income  child_at_Home  teen_at_Home  Recency  \\\n",
       "0      5524.0      1957.0   58138            0.0           0.0     58.0   \n",
       "1      2174.0      1954.0   46344            1.0           1.0     38.0   \n",
       "2      4141.0      1965.0   71613            0.0           0.0     26.0   \n",
       "3      6182.0      1984.0   26646            1.0           0.0     26.0   \n",
       "4      5324.0      1981.0   58293            1.0           0.0     94.0   \n",
       "...       ...         ...     ...            ...           ...      ...   \n",
       "2227  10870.0      1967.0   61223            0.0           1.0     46.0   \n",
       "2228   4001.0      1946.0   64014            2.0           1.0     56.0   \n",
       "2229   7270.0      1981.0   56981            0.0           0.0     91.0   \n",
       "2230   8235.0      1956.0   69245            0.0           1.0      8.0   \n",
       "2231   9405.0      1954.0   52869            1.0           1.0     40.0   \n",
       "\n",
       "      amt_Wines  amt_Fruits  amt_MeatProducts  amt_FishProducts  ...  \\\n",
       "0         635.0        88.0             546.0             172.0  ...   \n",
       "1          11.0         1.0               6.0               2.0  ...   \n",
       "2         426.0        49.0             127.0             111.0  ...   \n",
       "3          11.0         4.0              20.0              10.0  ...   \n",
       "4         173.0        43.0             118.0              46.0  ...   \n",
       "...         ...         ...               ...               ...  ...   \n",
       "2227      709.0        43.0             182.0              42.0  ...   \n",
       "2228      406.0         0.0              30.0               0.0  ...   \n",
       "2229      908.0        48.0             217.0              32.0  ...   \n",
       "2230      428.0        30.0             214.0              80.0  ...   \n",
       "2231       84.0         3.0              61.0               2.0  ...   \n",
       "\n",
       "      acceptedCmp5  acceptedCmp1  acceptedCmp2  Complain  Response  \\\n",
       "0                0           0.0           0.0         0       1.0   \n",
       "1                0           0.0           0.0         0       0.0   \n",
       "2                0           0.0           0.0         0       0.0   \n",
       "3                0           0.0           0.0         0       0.0   \n",
       "4                0           0.0           0.0         0       0.0   \n",
       "...            ...           ...           ...       ...       ...   \n",
       "2227             0           0.0           0.0         0       0.0   \n",
       "2228             0           1.0           0.0         0       0.0   \n",
       "2229             0           0.0           0.0         0       0.0   \n",
       "2230             0           0.0           0.0         0       0.0   \n",
       "2231             0           0.0           0.0         0       1.0   \n",
       "\n",
       "      EducationCodes  marital_StatusCodes   Education  marital_Status  \\\n",
       "0                  2                    4  Graduation          Single   \n",
       "1                  2                    4  Graduation          Single   \n",
       "2                  2                    5  Graduation        Together   \n",
       "3                  2                    5  Graduation        Together   \n",
       "4                  4                    3         PhD         Married   \n",
       "...              ...                  ...         ...             ...   \n",
       "2227               2                    3  Graduation         Married   \n",
       "2228               4                    5         PhD        Together   \n",
       "2229               2                    2  Graduation        Divorced   \n",
       "2230               3                    5      Master        Together   \n",
       "2231               4                    3         PhD         Married   \n",
       "\n",
       "      dt_Customer  \n",
       "0      2012-04-09  \n",
       "1      2014-08-03  \n",
       "2      2013-08-21  \n",
       "3      2014-10-02  \n",
       "4      2014-01-19  \n",
       "...           ...  \n",
       "2227   2013-03-03  \n",
       "2228   2012-12-08  \n",
       "2229   2014-05-18  \n",
       "2230   2013-03-16  \n",
       "2231   2012-08-21  \n",
       "\n",
       "[2232 rows x 29 columns]"
      ]
     },
     "execution_count": 4,
     "metadata": {},
     "output_type": "execute_result"
    }
   ],
   "source": [
    "import numpy as np\n",
    "import pandas as pd\n",
    "import matplotlib.pyplot as plt\n",
    "import seaborn as sb \n",
    "from sklearn.linear_model import LinearRegression\n",
    "from sklearn.metrics import confusion_matrix\n",
    "import warnings\n",
    "\n",
    "warnings.filterwarnings('ignore')\n",
    "\n",
    "clean_df=pd.read_excel(r'/Users/supreetkaur/Documents/DAB402-main/Clean_data.xls') ## Retriveing Data from file\n",
    "clean_df.columns\n",
    "\n",
    "clean_df.drop(['Unnamed: 0'], axis=1,inplace=True)\n",
    "clean_df"
   ]
  },
  {
   "cell_type": "markdown",
   "metadata": {},
   "source": [
    "### Performing Normalization on data using Min Max Scaler"
   ]
  },
  {
   "cell_type": "raw",
   "metadata": {},
   "source": [
    "# Normalization is used with aim to scale the data.\n",
    "# we have used min max scaling method\n",
    "# xnew=x.old-x.min/x.max-x.min\n",
    "# Normalization is only deal with numerical data so below we have removed all the categorical variables\n",
    "# and replace it with the dummy codes."
   ]
  },
  {
   "cell_type": "markdown",
   "metadata": {},
   "source": [
    "### Removing categorical variables"
   ]
  },
  {
   "cell_type": "code",
   "execution_count": 5,
   "metadata": {},
   "outputs": [],
   "source": [
    "clean_df = clean_df[clean_df.columns[~clean_df.columns.isin(['Education','marital_Status', 'dt_Customer'])]]"
   ]
  },
  {
   "cell_type": "markdown",
   "metadata": {},
   "source": [
    "### Using MinMaxScaler Normalization to scale the data"
   ]
  },
  {
   "cell_type": "code",
   "execution_count": 6,
   "metadata": {},
   "outputs": [],
   "source": [
    "from sklearn.preprocessing import MinMaxScaler\n",
    "scaler=MinMaxScaler()\n",
    "clean_df=pd.DataFrame(scaler.fit_transform(clean_df),columns=clean_df.columns)\n"
   ]
  },
  {
   "cell_type": "code",
   "execution_count": 7,
   "metadata": {},
   "outputs": [
    {
     "data": {
      "text/html": [
       "<div>\n",
       "<style scoped>\n",
       "    .dataframe tbody tr th:only-of-type {\n",
       "        vertical-align: middle;\n",
       "    }\n",
       "\n",
       "    .dataframe tbody tr th {\n",
       "        vertical-align: top;\n",
       "    }\n",
       "\n",
       "    .dataframe thead th {\n",
       "        text-align: right;\n",
       "    }\n",
       "</style>\n",
       "<table border=\"1\" class=\"dataframe\">\n",
       "  <thead>\n",
       "    <tr style=\"text-align: right;\">\n",
       "      <th></th>\n",
       "      <th>ID</th>\n",
       "      <th>year_Birth</th>\n",
       "      <th>Income</th>\n",
       "      <th>child_at_Home</th>\n",
       "      <th>teen_at_Home</th>\n",
       "      <th>Recency</th>\n",
       "      <th>amt_Wines</th>\n",
       "      <th>amt_Fruits</th>\n",
       "      <th>amt_MeatProducts</th>\n",
       "      <th>amt_FishProducts</th>\n",
       "      <th>...</th>\n",
       "      <th>num_WebVisitsMonth</th>\n",
       "      <th>acceptedCmp3</th>\n",
       "      <th>acceptedCmp4</th>\n",
       "      <th>acceptedCmp5</th>\n",
       "      <th>acceptedCmp1</th>\n",
       "      <th>acceptedCmp2</th>\n",
       "      <th>Complain</th>\n",
       "      <th>Response</th>\n",
       "      <th>EducationCodes</th>\n",
       "      <th>marital_StatusCodes</th>\n",
       "    </tr>\n",
       "  </thead>\n",
       "  <tbody>\n",
       "    <tr>\n",
       "      <th>0</th>\n",
       "      <td>0.493611</td>\n",
       "      <td>0.621359</td>\n",
       "      <td>0.084832</td>\n",
       "      <td>0.0</td>\n",
       "      <td>0.0</td>\n",
       "      <td>0.585859</td>\n",
       "      <td>0.425318</td>\n",
       "      <td>0.442211</td>\n",
       "      <td>0.316522</td>\n",
       "      <td>0.664093</td>\n",
       "      <td>...</td>\n",
       "      <td>0.35</td>\n",
       "      <td>0.0</td>\n",
       "      <td>0.0</td>\n",
       "      <td>0.0</td>\n",
       "      <td>0.0</td>\n",
       "      <td>0.0</td>\n",
       "      <td>0.0</td>\n",
       "      <td>1.0</td>\n",
       "      <td>0.6</td>\n",
       "      <td>0.625</td>\n",
       "    </tr>\n",
       "    <tr>\n",
       "      <th>1</th>\n",
       "      <td>0.194263</td>\n",
       "      <td>0.592233</td>\n",
       "      <td>0.067095</td>\n",
       "      <td>0.5</td>\n",
       "      <td>0.5</td>\n",
       "      <td>0.383838</td>\n",
       "      <td>0.007368</td>\n",
       "      <td>0.005025</td>\n",
       "      <td>0.003478</td>\n",
       "      <td>0.007722</td>\n",
       "      <td>...</td>\n",
       "      <td>0.25</td>\n",
       "      <td>0.0</td>\n",
       "      <td>0.0</td>\n",
       "      <td>0.0</td>\n",
       "      <td>0.0</td>\n",
       "      <td>0.0</td>\n",
       "      <td>0.0</td>\n",
       "      <td>0.0</td>\n",
       "      <td>0.6</td>\n",
       "      <td>0.625</td>\n",
       "    </tr>\n",
       "    <tr>\n",
       "      <th>2</th>\n",
       "      <td>0.370029</td>\n",
       "      <td>0.699029</td>\n",
       "      <td>0.105097</td>\n",
       "      <td>0.0</td>\n",
       "      <td>0.0</td>\n",
       "      <td>0.262626</td>\n",
       "      <td>0.285332</td>\n",
       "      <td>0.246231</td>\n",
       "      <td>0.073623</td>\n",
       "      <td>0.428571</td>\n",
       "      <td>...</td>\n",
       "      <td>0.20</td>\n",
       "      <td>0.0</td>\n",
       "      <td>0.0</td>\n",
       "      <td>0.0</td>\n",
       "      <td>0.0</td>\n",
       "      <td>0.0</td>\n",
       "      <td>0.0</td>\n",
       "      <td>0.0</td>\n",
       "      <td>0.6</td>\n",
       "      <td>0.750</td>\n",
       "    </tr>\n",
       "    <tr>\n",
       "      <th>3</th>\n",
       "      <td>0.552408</td>\n",
       "      <td>0.883495</td>\n",
       "      <td>0.037471</td>\n",
       "      <td>0.5</td>\n",
       "      <td>0.0</td>\n",
       "      <td>0.262626</td>\n",
       "      <td>0.007368</td>\n",
       "      <td>0.020101</td>\n",
       "      <td>0.011594</td>\n",
       "      <td>0.038610</td>\n",
       "      <td>...</td>\n",
       "      <td>0.30</td>\n",
       "      <td>0.0</td>\n",
       "      <td>0.0</td>\n",
       "      <td>0.0</td>\n",
       "      <td>0.0</td>\n",
       "      <td>0.0</td>\n",
       "      <td>0.0</td>\n",
       "      <td>0.0</td>\n",
       "      <td>0.6</td>\n",
       "      <td>0.750</td>\n",
       "    </tr>\n",
       "    <tr>\n",
       "      <th>4</th>\n",
       "      <td>0.475739</td>\n",
       "      <td>0.854369</td>\n",
       "      <td>0.085065</td>\n",
       "      <td>0.5</td>\n",
       "      <td>0.0</td>\n",
       "      <td>0.949495</td>\n",
       "      <td>0.115874</td>\n",
       "      <td>0.216080</td>\n",
       "      <td>0.068406</td>\n",
       "      <td>0.177606</td>\n",
       "      <td>...</td>\n",
       "      <td>0.25</td>\n",
       "      <td>0.0</td>\n",
       "      <td>0.0</td>\n",
       "      <td>0.0</td>\n",
       "      <td>0.0</td>\n",
       "      <td>0.0</td>\n",
       "      <td>0.0</td>\n",
       "      <td>0.0</td>\n",
       "      <td>1.0</td>\n",
       "      <td>0.500</td>\n",
       "    </tr>\n",
       "    <tr>\n",
       "      <th>...</th>\n",
       "      <td>...</td>\n",
       "      <td>...</td>\n",
       "      <td>...</td>\n",
       "      <td>...</td>\n",
       "      <td>...</td>\n",
       "      <td>...</td>\n",
       "      <td>...</td>\n",
       "      <td>...</td>\n",
       "      <td>...</td>\n",
       "      <td>...</td>\n",
       "      <td>...</td>\n",
       "      <td>...</td>\n",
       "      <td>...</td>\n",
       "      <td>...</td>\n",
       "      <td>...</td>\n",
       "      <td>...</td>\n",
       "      <td>...</td>\n",
       "      <td>...</td>\n",
       "      <td>...</td>\n",
       "      <td>...</td>\n",
       "      <td>...</td>\n",
       "    </tr>\n",
       "    <tr>\n",
       "      <th>2227</th>\n",
       "      <td>0.971316</td>\n",
       "      <td>0.718447</td>\n",
       "      <td>0.089472</td>\n",
       "      <td>0.0</td>\n",
       "      <td>0.5</td>\n",
       "      <td>0.464646</td>\n",
       "      <td>0.474883</td>\n",
       "      <td>0.216080</td>\n",
       "      <td>0.105507</td>\n",
       "      <td>0.162162</td>\n",
       "      <td>...</td>\n",
       "      <td>0.25</td>\n",
       "      <td>0.0</td>\n",
       "      <td>0.0</td>\n",
       "      <td>0.0</td>\n",
       "      <td>0.0</td>\n",
       "      <td>0.0</td>\n",
       "      <td>0.0</td>\n",
       "      <td>0.0</td>\n",
       "      <td>0.6</td>\n",
       "      <td>0.500</td>\n",
       "    </tr>\n",
       "    <tr>\n",
       "      <th>2228</th>\n",
       "      <td>0.357519</td>\n",
       "      <td>0.514563</td>\n",
       "      <td>0.093669</td>\n",
       "      <td>1.0</td>\n",
       "      <td>0.5</td>\n",
       "      <td>0.565657</td>\n",
       "      <td>0.271936</td>\n",
       "      <td>0.000000</td>\n",
       "      <td>0.017391</td>\n",
       "      <td>0.000000</td>\n",
       "      <td>...</td>\n",
       "      <td>0.35</td>\n",
       "      <td>0.0</td>\n",
       "      <td>0.0</td>\n",
       "      <td>0.0</td>\n",
       "      <td>1.0</td>\n",
       "      <td>0.0</td>\n",
       "      <td>0.0</td>\n",
       "      <td>0.0</td>\n",
       "      <td>1.0</td>\n",
       "      <td>0.750</td>\n",
       "    </tr>\n",
       "    <tr>\n",
       "      <th>2229</th>\n",
       "      <td>0.649629</td>\n",
       "      <td>0.854369</td>\n",
       "      <td>0.083092</td>\n",
       "      <td>0.0</td>\n",
       "      <td>0.0</td>\n",
       "      <td>0.919192</td>\n",
       "      <td>0.608171</td>\n",
       "      <td>0.241206</td>\n",
       "      <td>0.125797</td>\n",
       "      <td>0.123552</td>\n",
       "      <td>...</td>\n",
       "      <td>0.30</td>\n",
       "      <td>0.0</td>\n",
       "      <td>1.0</td>\n",
       "      <td>0.0</td>\n",
       "      <td>0.0</td>\n",
       "      <td>0.0</td>\n",
       "      <td>0.0</td>\n",
       "      <td>0.0</td>\n",
       "      <td>0.6</td>\n",
       "      <td>0.375</td>\n",
       "    </tr>\n",
       "    <tr>\n",
       "      <th>2230</th>\n",
       "      <td>0.735859</td>\n",
       "      <td>0.611650</td>\n",
       "      <td>0.101536</td>\n",
       "      <td>0.0</td>\n",
       "      <td>0.5</td>\n",
       "      <td>0.080808</td>\n",
       "      <td>0.286671</td>\n",
       "      <td>0.150754</td>\n",
       "      <td>0.124058</td>\n",
       "      <td>0.308880</td>\n",
       "      <td>...</td>\n",
       "      <td>0.15</td>\n",
       "      <td>0.0</td>\n",
       "      <td>0.0</td>\n",
       "      <td>0.0</td>\n",
       "      <td>0.0</td>\n",
       "      <td>0.0</td>\n",
       "      <td>0.0</td>\n",
       "      <td>0.0</td>\n",
       "      <td>0.8</td>\n",
       "      <td>0.750</td>\n",
       "    </tr>\n",
       "    <tr>\n",
       "      <th>2231</th>\n",
       "      <td>0.840407</td>\n",
       "      <td>0.592233</td>\n",
       "      <td>0.076908</td>\n",
       "      <td>0.5</td>\n",
       "      <td>0.5</td>\n",
       "      <td>0.404040</td>\n",
       "      <td>0.056263</td>\n",
       "      <td>0.015075</td>\n",
       "      <td>0.035362</td>\n",
       "      <td>0.007722</td>\n",
       "      <td>...</td>\n",
       "      <td>0.35</td>\n",
       "      <td>0.0</td>\n",
       "      <td>0.0</td>\n",
       "      <td>0.0</td>\n",
       "      <td>0.0</td>\n",
       "      <td>0.0</td>\n",
       "      <td>0.0</td>\n",
       "      <td>1.0</td>\n",
       "      <td>1.0</td>\n",
       "      <td>0.500</td>\n",
       "    </tr>\n",
       "  </tbody>\n",
       "</table>\n",
       "<p>2232 rows × 26 columns</p>\n",
       "</div>"
      ],
      "text/plain": [
       "            ID  year_Birth    Income  child_at_Home  teen_at_Home   Recency  \\\n",
       "0     0.493611    0.621359  0.084832            0.0           0.0  0.585859   \n",
       "1     0.194263    0.592233  0.067095            0.5           0.5  0.383838   \n",
       "2     0.370029    0.699029  0.105097            0.0           0.0  0.262626   \n",
       "3     0.552408    0.883495  0.037471            0.5           0.0  0.262626   \n",
       "4     0.475739    0.854369  0.085065            0.5           0.0  0.949495   \n",
       "...        ...         ...       ...            ...           ...       ...   \n",
       "2227  0.971316    0.718447  0.089472            0.0           0.5  0.464646   \n",
       "2228  0.357519    0.514563  0.093669            1.0           0.5  0.565657   \n",
       "2229  0.649629    0.854369  0.083092            0.0           0.0  0.919192   \n",
       "2230  0.735859    0.611650  0.101536            0.0           0.5  0.080808   \n",
       "2231  0.840407    0.592233  0.076908            0.5           0.5  0.404040   \n",
       "\n",
       "      amt_Wines  amt_Fruits  amt_MeatProducts  amt_FishProducts  ...  \\\n",
       "0      0.425318    0.442211          0.316522          0.664093  ...   \n",
       "1      0.007368    0.005025          0.003478          0.007722  ...   \n",
       "2      0.285332    0.246231          0.073623          0.428571  ...   \n",
       "3      0.007368    0.020101          0.011594          0.038610  ...   \n",
       "4      0.115874    0.216080          0.068406          0.177606  ...   \n",
       "...         ...         ...               ...               ...  ...   \n",
       "2227   0.474883    0.216080          0.105507          0.162162  ...   \n",
       "2228   0.271936    0.000000          0.017391          0.000000  ...   \n",
       "2229   0.608171    0.241206          0.125797          0.123552  ...   \n",
       "2230   0.286671    0.150754          0.124058          0.308880  ...   \n",
       "2231   0.056263    0.015075          0.035362          0.007722  ...   \n",
       "\n",
       "      num_WebVisitsMonth  acceptedCmp3  acceptedCmp4  acceptedCmp5  \\\n",
       "0                   0.35           0.0           0.0           0.0   \n",
       "1                   0.25           0.0           0.0           0.0   \n",
       "2                   0.20           0.0           0.0           0.0   \n",
       "3                   0.30           0.0           0.0           0.0   \n",
       "4                   0.25           0.0           0.0           0.0   \n",
       "...                  ...           ...           ...           ...   \n",
       "2227                0.25           0.0           0.0           0.0   \n",
       "2228                0.35           0.0           0.0           0.0   \n",
       "2229                0.30           0.0           1.0           0.0   \n",
       "2230                0.15           0.0           0.0           0.0   \n",
       "2231                0.35           0.0           0.0           0.0   \n",
       "\n",
       "      acceptedCmp1  acceptedCmp2  Complain  Response  EducationCodes  \\\n",
       "0              0.0           0.0       0.0       1.0             0.6   \n",
       "1              0.0           0.0       0.0       0.0             0.6   \n",
       "2              0.0           0.0       0.0       0.0             0.6   \n",
       "3              0.0           0.0       0.0       0.0             0.6   \n",
       "4              0.0           0.0       0.0       0.0             1.0   \n",
       "...            ...           ...       ...       ...             ...   \n",
       "2227           0.0           0.0       0.0       0.0             0.6   \n",
       "2228           1.0           0.0       0.0       0.0             1.0   \n",
       "2229           0.0           0.0       0.0       0.0             0.6   \n",
       "2230           0.0           0.0       0.0       0.0             0.8   \n",
       "2231           0.0           0.0       0.0       1.0             1.0   \n",
       "\n",
       "      marital_StatusCodes  \n",
       "0                   0.625  \n",
       "1                   0.625  \n",
       "2                   0.750  \n",
       "3                   0.750  \n",
       "4                   0.500  \n",
       "...                   ...  \n",
       "2227                0.500  \n",
       "2228                0.750  \n",
       "2229                0.375  \n",
       "2230                0.750  \n",
       "2231                0.500  \n",
       "\n",
       "[2232 rows x 26 columns]"
      ]
     },
     "execution_count": 7,
     "metadata": {},
     "output_type": "execute_result"
    }
   ],
   "source": [
    "clean_df"
   ]
  },
  {
   "cell_type": "markdown",
   "metadata": {},
   "source": [
    "### Dividing the data to train test split"
   ]
  },
  {
   "cell_type": "code",
   "execution_count": 8,
   "metadata": {},
   "outputs": [],
   "source": [
    "from sklearn.model_selection import train_test_split"
   ]
  },
  {
   "cell_type": "code",
   "execution_count": 10,
   "metadata": {},
   "outputs": [],
   "source": [
    "dfX=clean_df[clean_df.columns[~clean_df.columns.isin(['Response'])]] # all the independent variable is stored in dfX\n",
    "dfY = clean_df[\"Response\"] # extracting dependent variable from the dataset\n",
    "dfY = dfY.astype(int) # converting response variable to int other KNN will treat this as continuous "
   ]
  },
  {
   "cell_type": "code",
   "execution_count": 11,
   "metadata": {},
   "outputs": [],
   "source": [
    "\n",
    "X_train, X_test, y_train, y_test = train_test_split(dfX,dfY, test_size=0.2,random_state=34) \n"
   ]
  },
  {
   "cell_type": "markdown",
   "metadata": {},
   "source": [
    "## Modelling using KNN"
   ]
  },
  {
   "cell_type": "raw",
   "metadata": {},
   "source": [
    "# KNN is supervised algorithm used to deal with classification and regression problems.\n",
    "# we have used neighbors library to import KNeighborsClassifier\n",
    "# KNN calculates the distance between trainind datapoints and test set."
   ]
  },
  {
   "cell_type": "code",
   "execution_count": 12,
   "metadata": {},
   "outputs": [],
   "source": [
    "from sklearn.neighbors import KNeighborsClassifier"
   ]
  },
  {
   "cell_type": "markdown",
   "metadata": {},
   "source": [
    "### Choosing  the appropriate k-value"
   ]
  },
  {
   "cell_type": "raw",
   "metadata": {},
   "source": [
    "# we will calculate optimal k value by using the error rate.\n",
    "# here our motive is to minimize error rate and get the optimal error rate value \n",
    "# that further used for the knn modelling.\n",
    "# basics creteria  behind is to choose k value then \n",
    "# find the distance between data points using euclidean distance\n"
   ]
  },
  {
   "cell_type": "raw",
   "metadata": {},
   "source": [
    "# Euclidean distance is calculated as sqrt(pow((x2-x1),2)+(pow(y2-y1),2))"
   ]
  },
  {
   "cell_type": "raw",
   "metadata": {},
   "source": [
    "# here basic reason to use sqrt(N) to define the range for optimal k value\n",
    "# where N is number of data points based upon the right hand thumb rule\n"
   ]
  },
  {
   "cell_type": "code",
   "execution_count": 13,
   "metadata": {},
   "outputs": [],
   "source": [
    "error_rate=[]\n",
    "for i in range(1,50): # sqrt of rows is 47.3\n",
    "    knn=KNeighborsClassifier(n_neighbors=i)\n",
    "    knn.fit(X_train,y_train)\n",
    "    pred=knn.predict(X_test)\n",
    "    error_rate.append(np.mean(pred!=y_test))"
   ]
  },
  {
   "cell_type": "code",
   "execution_count": 14,
   "metadata": {},
   "outputs": [
    {
     "data": {
      "text/plain": [
       "Text(0, 0.5, 'Error rate')"
      ]
     },
     "execution_count": 14,
     "metadata": {},
     "output_type": "execute_result"
    },
    {
     "data": {
      "image/png": "[encoded data removed]",
      "text/plain": [
       "<Figure size 720x432 with 1 Axes>"
      ]
     },
     "metadata": {
      "needs_background": "light"
     },
     "output_type": "display_data"
    }
   ],
   "source": [
    "\n",
    "plt.figure(figsize=(10,6))\n",
    "plt.plot(range(1,50),error_rate,color='blue',linestyle='dashed',marker='o',markerfacecolor='red',markersize=10)\n",
    "plt.title('Error Rate vs K value')\n",
    "plt.xlabel('K')\n",
    "plt.ylabel('Error rate')"
   ]
  },
  {
   "cell_type": "markdown",
   "metadata": {},
   "source": [
    "### checking with k=10"
   ]
  },
  {
   "cell_type": "code",
   "execution_count": 15,
   "metadata": {},
   "outputs": [
    {
     "data": {
      "text/plain": [
       "array([1, 0, 0, 0, 0, 0, 0, 0, 0, 0, 0, 0, 0, 0, 0, 0, 0, 0, 0, 0, 0, 0,\n",
       "       0, 0, 0, 0, 0, 0, 0, 0, 0, 0, 0, 0, 0, 0, 0, 0, 0, 0, 0, 0, 0, 0,\n",
       "       0, 0, 0, 0, 0, 0, 0, 0, 0, 0, 1, 0, 0, 0, 1, 0, 0, 0, 0, 1, 0, 0,\n",
       "       0, 0, 0, 0, 0, 1, 0, 0, 0, 0, 0, 1, 0, 0, 0, 0, 0, 0, 0, 1, 1, 0,\n",
       "       0, 0, 0, 0, 0, 0, 0, 0, 0, 0, 0, 0, 0, 0, 0, 0, 0, 0, 0, 0, 0, 0,\n",
       "       0, 1, 0, 0, 0, 0, 0, 0, 0, 0, 0, 0, 0, 0, 0, 0, 0, 0, 0, 0, 0, 0,\n",
       "       0, 0, 0, 0, 0, 0, 0, 0, 0, 0, 0, 0, 0, 0, 0, 0, 0, 0, 0, 0, 0, 0,\n",
       "       0, 0, 1, 0, 0, 0, 0, 0, 0, 0, 0, 0, 0, 0, 0, 0, 0, 0, 0, 0, 0, 0,\n",
       "       0, 0, 0, 0, 0, 0, 0, 0, 0, 0, 0, 0, 0, 0, 0, 0, 0, 0, 0, 0, 0, 0,\n",
       "       0, 1, 0, 0, 0, 0, 0, 0, 0, 0, 0, 0, 0, 0, 0, 0, 0, 0, 0, 0, 0, 0,\n",
       "       0, 0, 0, 0, 0, 0, 0, 0, 0, 0, 0, 0, 0, 0, 0, 0, 0, 0, 0, 0, 0, 0,\n",
       "       0, 0, 0, 0, 0, 0, 0, 0, 0, 0, 1, 0, 0, 0, 0, 0, 0, 0, 0, 0, 0, 0,\n",
       "       0, 0, 0, 0, 0, 0, 0, 0, 0, 0, 0, 0, 0, 0, 0, 0, 0, 0, 0, 0, 0, 0,\n",
       "       0, 1, 0, 1, 1, 0, 0, 0, 0, 0, 0, 0, 0, 0, 0, 0, 0, 0, 0, 0, 1, 0,\n",
       "       0, 0, 0, 0, 0, 0, 0, 0, 0, 0, 0, 0, 0, 0, 0, 0, 0, 0, 0, 0, 0, 0,\n",
       "       0, 0, 0, 0, 0, 0, 0, 0, 0, 0, 1, 0, 0, 0, 0, 0, 0, 0, 0, 1, 0, 0,\n",
       "       0, 0, 0, 0, 0, 0, 0, 0, 0, 0, 0, 0, 0, 0, 0, 0, 1, 1, 0, 0, 0, 0,\n",
       "       0, 0, 0, 0, 0, 0, 0, 0, 0, 0, 0, 0, 0, 0, 0, 0, 0, 0, 0, 0, 0, 0,\n",
       "       0, 0, 0, 0, 0, 0, 1, 0, 0, 0, 0, 0, 0, 0, 0, 0, 1, 1, 0, 0, 0, 0,\n",
       "       0, 0, 0, 0, 0, 0, 0, 0, 0, 0, 0, 0, 0, 0, 0, 0, 0, 0, 0, 0, 0, 0,\n",
       "       0, 0, 0, 0, 0, 0, 0])"
      ]
     },
     "execution_count": 15,
     "metadata": {},
     "output_type": "execute_result"
    }
   ],
   "source": [
    "# number of neighbors are set to optimal k value that is k=10\n",
    "knn=KNeighborsClassifier(n_neighbors=10)\n",
    "\n",
    "# fit the model\n",
    "knn.fit(X_train,y_train)\n",
    "\n",
    "# predicted the model with the testing dataset\n",
    "pred_k=knn.predict(X_test)\n",
    "pred_k"
   ]
  },
  {
   "cell_type": "code",
   "execution_count": 16,
   "metadata": {},
   "outputs": [
    {
     "name": "stdout",
     "output_type": "stream",
     "text": [
      "              precision    recall  f1-score   support\n",
      "\n",
      "           0       0.88      0.97      0.93       384\n",
      "           1       0.57      0.21      0.30        63\n",
      "\n",
      "    accuracy                           0.87       447\n",
      "   macro avg       0.72      0.59      0.61       447\n",
      "weighted avg       0.84      0.87      0.84       447\n",
      "\n",
      "86.57718120805369\n"
     ]
    },
    {
     "data": {
      "image/png": "[encoded data removed]",
      "text/plain": [
       "<Figure size 432x288 with 2 Axes>"
      ]
     },
     "metadata": {
      "needs_background": "light"
     },
     "output_type": "display_data"
    }
   ],
   "source": [
    "from sklearn.metrics import classification_report,confusion_matrix,accuracy_score,plot_confusion_matrix\n",
    "\n",
    "# plot the confusion matrix\n",
    "cf_matrix = confusion_matrix(y_test,pred_k)\n",
    "sb.heatmap(cf_matrix/np.sum(cf_matrix), annot=True, \n",
    "            fmt='.2%')\n",
    "\n",
    "# classification report defines the \n",
    "# precision: that focus on true positive values=tp/tp+tn\n",
    "# recall: definess the predicted true positive value = tp/tp+fn\n",
    "# f1-score combine both\n",
    "\n",
    "print(classification_report(y_test,pred_k))\n",
    "\n",
    "# check with accuracy how accurate out predicted dataset is.\n",
    "print(accuracy_score(y_test,pred_k)*100)"
   ]
  },
  {
   "cell_type": "markdown",
   "metadata": {},
   "source": [
    "###  Modelling with Decision tree"
   ]
  },
  {
   "cell_type": "raw",
   "metadata": {},
   "source": [
    "# The algorithm calculates the information gain corresponding to each column and then for the attribute for which the information gain is maximum we use that as the root node"
   ]
  },
  {
   "cell_type": "raw",
   "metadata": {},
   "source": [
    "# here criterion is by default used as gini that defines the impurity in the dataset.\n",
    "# max depth is set to 2 to get the maximum two level depth of the tree."
   ]
  },
  {
   "cell_type": "code",
   "execution_count": 57,
   "metadata": {},
   "outputs": [],
   "source": [
    "from sklearn import tree\n",
    "from sklearn import metrics\n",
    "from sklearn.tree import plot_tree\n",
    "\n",
    "model=tree.DecisionTreeClassifier(min_impurity_decrease=0.005)\n",
    "\n",
    "# fit the predicted model using the train data points.\n",
    "d_tree_fit=model.fit(X_train,y_train)"
   ]
  },
  {
   "cell_type": "code",
   "execution_count": 58,
   "metadata": {},
   "outputs": [
    {
     "name": "stdout",
     "output_type": "stream",
     "text": [
      "              precision    recall  f1-score   support\n",
      "\n",
      "           0       0.88      0.99      0.93       384\n",
      "           1       0.64      0.14      0.23        63\n",
      "\n",
      "    accuracy                           0.87       447\n",
      "   macro avg       0.76      0.56      0.58       447\n",
      "weighted avg       0.84      0.87      0.83       447\n",
      "\n",
      "86.80089485458613\n"
     ]
    },
    {
     "data": {
      "image/png": "[encoded data removed]",
      "text/plain": [
       "<Figure size 432x288 with 2 Axes>"
      ]
     },
     "metadata": {
      "needs_background": "light"
     },
     "output_type": "display_data"
    }
   ],
   "source": [
    "# predict the test data set\n",
    "d_tree_predict=d_tree_fit.predict(X_test)\n",
    "\n",
    "# plot confusion_ matrix to get actual and predicted values.\n",
    "cf_matrix = confusion_matrix(y_test,d_tree_predict)\n",
    "sb.heatmap(cf_matrix/np.sum(cf_matrix), annot=True, \n",
    "            fmt='.2%')\n",
    "\n",
    "# classification report defines the \n",
    "# precision: that focus on true positive values=tp/tp+tn\n",
    "# recall: definess the predicted true positive value = tp/tp+fn\n",
    "# f1-score combine both\n",
    "\n",
    "print(classification_report(y_test,d_tree_predict))\n",
    "\n",
    "# checking with the how often predicted datapoints are accurate from all actual values.\n",
    "print( accuracy_score(y_test,d_tree_predict)*100)"
   ]
  },
  {
   "cell_type": "markdown",
   "metadata": {},
   "source": [
    "### Plot the decision tree"
   ]
  },
  {
   "cell_type": "code",
   "execution_count": 59,
   "metadata": {},
   "outputs": [
    {
     "data": {
      "text/plain": [
       "<function sklearn.tree._export.plot_tree(decision_tree, *, max_depth=None, feature_names=None, class_names=None, label='all', filled=False, impurity=True, node_ids=False, proportion=False, rounded=False, precision=3, ax=None, fontsize=None)>"
      ]
     },
     "execution_count": 59,
     "metadata": {},
     "output_type": "execute_result"
    }
   ],
   "source": [
    "plot_tree"
   ]
  },
  {
   "cell_type": "code",
   "execution_count": 60,
   "metadata": {},
   "outputs": [
    {
     "data": {
      "image/png": "[encoded data removed]",
      "text/plain": [
       "<Figure size 432x288 with 1 Axes>"
      ]
     },
     "metadata": {
      "needs_background": "light"
     },
     "output_type": "display_data"
    }
   ],
   "source": [
    "dec_tree = plot_tree(decision_tree=d_tree_fit, feature_names = clean_df.columns, \n",
    "                      filled = True )\n"
   ]
  },
  {
   "cell_type": "markdown",
   "metadata": {},
   "source": [
    "### using entropy"
   ]
  },
  {
   "cell_type": "raw",
   "metadata": {},
   "source": [
    "## criterion for selection measure.\n",
    "#Entropy defines the degree of randomness.We always prefer to chose high information gain with low entropy."
   ]
  },
  {
   "cell_type": "code",
   "execution_count": 61,
   "metadata": {},
   "outputs": [
    {
     "name": "stdout",
     "output_type": "stream",
     "text": [
      "              precision    recall  f1-score   support\n",
      "\n",
      "           0       0.90      0.98      0.94       384\n",
      "           1       0.73      0.30      0.43        63\n",
      "\n",
      "    accuracy                           0.89       447\n",
      "   macro avg       0.81      0.64      0.68       447\n",
      "weighted avg       0.87      0.89      0.86       447\n",
      "\n",
      "Accuracy :  88.59060402684564\n"
     ]
    },
    {
     "data": {
      "image/png": "[encoded data removed]",
      "text/plain": [
       "<Figure size 432x288 with 2 Axes>"
      ]
     },
     "metadata": {
      "needs_background": "light"
     },
     "output_type": "display_data"
    }
   ],
   "source": [
    "d_tree_entropy=tree.DecisionTreeClassifier(criterion=\"entropy\",min_impurity_decrease=0.005)\n",
    "\n",
    "## train decision tree classifier\n",
    "d_tree_fit_entropy=d_tree_entropy.fit(X_train,y_train)\n",
    "\n",
    "## predict with testing set\n",
    "d_tree_predict=d_tree_fit_entropy.predict(X_test)\n",
    "\n",
    "##check with the confusion ,matrix\n",
    "cf_matrix = confusion_matrix(y_test,d_tree_predict)\n",
    "sb.heatmap(cf_matrix/np.sum(cf_matrix), annot=True, \n",
    "            fmt='.2%')\n",
    "\n",
    "print(classification_report(y_test,d_tree_predict))\n",
    "\n",
    "## check how often your selected classifier is correct\n",
    "print(\"Accuracy : \", accuracy_score(y_test,d_tree_predict)*100)"
   ]
  },
  {
   "cell_type": "code",
   "execution_count": 21,
   "metadata": {},
   "outputs": [
    {
     "data": {
      "image/png": "[encoded data removed]",
      "text/plain": [
       "<Figure size 432x288 with 1 Axes>"
      ]
     },
     "metadata": {
      "needs_background": "light"
     },
     "output_type": "display_data"
    }
   ],
   "source": [
    "dec_tree = plot_tree(decision_tree=d_tree_fit_entropy, feature_names = clean_df.columns, \n",
    "                      filled = True , precision = 6)\n"
   ]
  },
  {
   "cell_type": "markdown",
   "metadata": {},
   "source": [
    "###  Modelling with Logistic Regression"
   ]
  },
  {
   "cell_type": "raw",
   "metadata": {},
   "source": [
    "#Basically, used where binary output is involved. Output can be 1 or 0, true or false. For classification problems we prefer to implement logistic regression. \n"
   ]
  },
  {
   "cell_type": "code",
   "execution_count": 22,
   "metadata": {},
   "outputs": [
    {
     "data": {
      "image/png": "[encoded data removed]",
      "text/plain": [
       "<Figure size 432x288 with 1 Axes>"
      ]
     },
     "metadata": {
      "needs_background": "light"
     },
     "output_type": "display_data"
    }
   ],
   "source": [
    "from sklearn.linear_model import LogisticRegression\n",
    "\n",
    "\n",
    "model=LogisticRegression()\n",
    "# fitting the model\n",
    "model.fit(X_train,y_train)\n",
    "\n",
    "metrics.plot_roc_curve(model, X_test, y_test) \n",
    "plt.plot([0, 1], [0, 1],'g--')\n",
    "plt.xlim([0.0, 1.0])\n",
    "plt.ylim([0.0, 1.0])\n",
    "plt.xlabel('False Positive Rate')\n",
    "plt.ylabel('True Positive Rate')\n",
    "plt.show()"
   ]
  },
  {
   "cell_type": "code",
   "execution_count": 23,
   "metadata": {},
   "outputs": [],
   "source": [
    "predict_logistic=model.predict(X_test)"
   ]
  },
  {
   "cell_type": "code",
   "execution_count": 24,
   "metadata": {},
   "outputs": [
    {
     "name": "stdout",
     "output_type": "stream",
     "text": [
      "              precision    recall  f1-score   support\n",
      "\n",
      "           0       0.89      0.97      0.93       384\n",
      "           1       0.58      0.29      0.38        63\n",
      "\n",
      "    accuracy                           0.87       447\n",
      "   macro avg       0.74      0.63      0.66       447\n",
      "weighted avg       0.85      0.87      0.85       447\n",
      "\n",
      "87.02460850111858\n"
     ]
    },
    {
     "data": {
      "image/png": "[encoded data removed]",
      "text/plain": [
       "<Figure size 432x288 with 2 Axes>"
      ]
     },
     "metadata": {
      "needs_background": "light"
     },
     "output_type": "display_data"
    }
   ],
   "source": [
    "from sklearn import metrics\n",
    "from sklearn.metrics import classification_report,accuracy_score\n",
    "from sklearn.metrics import plot_confusion_matrix\n",
    "\n",
    "\n",
    "cf_matrix = confusion_matrix(y_test,predict_logistic)\n",
    "sb.heatmap(cf_matrix/np.sum(cf_matrix), annot=True, \n",
    "            fmt='.2%')\n",
    "\n",
    "print(classification_report(y_test,predict_logistic))\n",
    "\n",
    "print(accuracy_score(y_test,predict_logistic)*100)"
   ]
  },
  {
   "cell_type": "markdown",
   "metadata": {},
   "source": [
    "### Random Forest"
   ]
  },
  {
   "cell_type": "raw",
   "metadata": {},
   "source": [
    "# Random forest is the accumulation of different decision trees. The target variable is calculated by using all these trees and the result is calculated based on the average of output from all these trees."
   ]
  },
  {
   "cell_type": "raw",
   "metadata": {},
   "source": [
    "# when multiple algorithms are used to take decisions.and we take the majiority vote to get final decisison."
   ]
  },
  {
   "cell_type": "code",
   "execution_count": 25,
   "metadata": {},
   "outputs": [],
   "source": [
    "from sklearn.ensemble  import RandomForestClassifier  "
   ]
  },
  {
   "cell_type": "code",
   "execution_count": 26,
   "metadata": {},
   "outputs": [],
   "source": [
    "# number of decision tree are used are mentioned in the estimators.\n",
    "model=RandomForestClassifier(n_estimators=20) "
   ]
  },
  {
   "cell_type": "code",
   "execution_count": 27,
   "metadata": {},
   "outputs": [
    {
     "data": {
      "text/plain": [
       "RandomForestClassifier(n_estimators=20)"
      ]
     },
     "execution_count": 27,
     "metadata": {},
     "output_type": "execute_result"
    }
   ],
   "source": [
    "# fit the model using the traininf datasets\n",
    "model.fit(X_train,y_train)\n"
   ]
  },
  {
   "cell_type": "code",
   "execution_count": 28,
   "metadata": {},
   "outputs": [
    {
     "data": {
      "text/plain": [
       "0.8680089485458613"
      ]
     },
     "execution_count": 28,
     "metadata": {},
     "output_type": "execute_result"
    }
   ],
   "source": [
    "# to check model accuracy\n",
    "model.score(X_test,y_test)"
   ]
  },
  {
   "cell_type": "code",
   "execution_count": 29,
   "metadata": {},
   "outputs": [
    {
     "data": {
      "text/plain": [
       "array([1, 0, 0, 0, 0, 0, 0, 0, 0, 0, 0, 0, 0, 1, 0, 0, 0, 0, 0, 0, 0, 0,\n",
       "       0, 0, 0, 0, 0, 0, 0, 0, 0, 0, 0, 0, 0, 0, 0, 0, 0, 0, 0, 0, 0, 0,\n",
       "       1, 0, 0, 0, 0, 0, 0, 0, 0, 0, 0, 0, 0, 0, 0, 0, 0, 0, 0, 1, 0, 0,\n",
       "       0, 1, 0, 0, 0, 0, 0, 0, 0, 0, 0, 1, 0, 0, 0, 1, 0, 0, 0, 0, 0, 0,\n",
       "       0, 1, 0, 0, 0, 0, 0, 0, 0, 0, 0, 0, 0, 0, 0, 0, 0, 0, 0, 0, 0, 0,\n",
       "       1, 0, 0, 0, 0, 0, 0, 0, 0, 0, 0, 0, 0, 0, 0, 0, 0, 0, 0, 0, 0, 0,\n",
       "       0, 0, 0, 0, 0, 0, 0, 0, 0, 0, 0, 0, 0, 0, 0, 0, 0, 0, 0, 0, 0, 0,\n",
       "       0, 0, 0, 0, 0, 0, 0, 0, 0, 0, 0, 0, 0, 0, 0, 0, 0, 0, 0, 0, 0, 0,\n",
       "       0, 0, 0, 0, 0, 0, 0, 0, 0, 0, 0, 0, 0, 0, 0, 0, 0, 0, 0, 0, 0, 0,\n",
       "       0, 1, 0, 0, 0, 1, 0, 0, 0, 0, 0, 0, 0, 0, 0, 1, 0, 0, 0, 0, 0, 0,\n",
       "       0, 0, 0, 0, 0, 0, 0, 0, 0, 0, 0, 0, 0, 0, 0, 0, 0, 0, 0, 0, 0, 0,\n",
       "       0, 0, 0, 0, 0, 0, 0, 0, 0, 0, 0, 0, 0, 0, 0, 0, 0, 0, 0, 0, 0, 0,\n",
       "       0, 0, 0, 0, 0, 0, 0, 0, 0, 0, 0, 0, 0, 0, 0, 0, 0, 0, 0, 0, 0, 0,\n",
       "       0, 0, 0, 1, 1, 0, 0, 0, 0, 0, 0, 0, 0, 0, 0, 0, 0, 0, 0, 0, 1, 0,\n",
       "       0, 0, 0, 0, 0, 0, 0, 0, 0, 0, 0, 0, 0, 0, 0, 0, 0, 0, 0, 0, 0, 0,\n",
       "       0, 0, 0, 0, 0, 0, 0, 0, 0, 0, 0, 0, 0, 0, 0, 0, 0, 0, 0, 1, 0, 0,\n",
       "       0, 0, 0, 0, 0, 0, 0, 0, 0, 0, 0, 0, 0, 0, 0, 0, 1, 1, 0, 0, 0, 0,\n",
       "       0, 0, 0, 0, 0, 0, 0, 0, 0, 0, 0, 0, 0, 0, 0, 0, 0, 0, 0, 0, 0, 0,\n",
       "       0, 0, 0, 0, 0, 0, 0, 0, 0, 0, 0, 0, 0, 0, 0, 0, 1, 0, 0, 0, 0, 0,\n",
       "       0, 0, 0, 0, 0, 0, 0, 0, 0, 0, 0, 0, 0, 0, 0, 0, 0, 0, 0, 1, 0, 0,\n",
       "       0, 0, 0, 0, 0, 0, 0])"
      ]
     },
     "execution_count": 29,
     "metadata": {},
     "output_type": "execute_result"
    }
   ],
   "source": [
    "# predict the model with test dataset\n",
    "model_predicted=model.predict(X_test) \n",
    "model_predicted"
   ]
  },
  {
   "cell_type": "code",
   "execution_count": 36,
   "metadata": {},
   "outputs": [
    {
     "data": {
      "text/plain": [
       "<AxesSubplot:>"
      ]
     },
     "execution_count": 36,
     "metadata": {},
     "output_type": "execute_result"
    },
    {
     "data": {
      "image/png": "[encoded data removed]",
      "text/plain": [
       "<Figure size 432x288 with 2 Axes>"
      ]
     },
     "metadata": {
      "needs_background": "light"
     },
     "output_type": "display_data"
    }
   ],
   "source": [
    "#from sklearn.metrics import confusion_matrix\n",
    "\n",
    "# plot the confusion_matrix to check with the predicted and actual values.\n",
    "cf_matrix = confusion_matrix(y_test,model_predicted)\n",
    "sb.heatmap(cf_matrix/np.sum(cf_matrix), annot=True, \n",
    "            fmt='.2%')\n",
    "\n"
   ]
  }
 ],
 "metadata": {
  "kernelspec": {
   "display_name": "Python 3",
   "language": "python",
   "name": "python3"
  },
  "language_info": {
   "codemirror_mode": {
    "name": "ipython",
    "version": 3
   },
   "file_extension": ".py",
   "mimetype": "text/x-python",
   "name": "python",
   "nbconvert_exporter": "python",
   "pygments_lexer": "ipython3",
   "version": "3.8.5"
  }
 },
 "nbformat": 4,
 "nbformat_minor": 4
}
